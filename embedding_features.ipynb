{
 "cells": [
  {
   "cell_type": "code",
   "execution_count": null,
   "id": "09752c6c",
   "metadata": {},
   "outputs": [],
   "source": [
    "import kagglehub\n",
    "import pandas as pd\n",
    "import numpy as np\n",
    "import re\n",
    "from sklearn.feature_extraction.text import CountVectorizer\n",
    "from sklearn.model_selection import train_test_split\n",
    "from sklearn.naive_bayes import MultinomialNB\n",
    "from sklearn.feature_extraction.text import TfidfVectorizer\n",
    "from sklearn.metrics import accuracy_score\n",
    "from sentence_transformers import SentenceTransformer"
   ]
  },
  {
   "cell_type": "code",
   "execution_count": null,
   "id": "94d7979a",
   "metadata": {},
   "outputs": [],
   "source": [
    "df = pd.read_csv('sample_reviews.csv')"
   ]
  },
  {
   "cell_type": "code",
   "execution_count": null,
   "id": "bd607c38",
   "metadata": {},
   "outputs": [],
   "source": [
    "# Encode the target variable 'label' into numerical format\n",
    "df['label_encoded'] = df['label'].apply(lambda x: 1 if x == 'CG' else 0)"
   ]
  },
  {
   "cell_type": "code",
   "execution_count": null,
   "id": "933f9de1",
   "metadata": {},
   "outputs": [],
   "source": [
    "from gensim.downloader import load\n",
    "from gensim.utils import simple_preprocess\n",
    "\n",
    "word2vec_model = load(\"word2vec-google-news-300\")  # This handles download & loading for you\n",
    "\n",
    "# Function to clean and tokenize text\n",
    "def clean_and_tokenize(text):\n",
    "    return simple_preprocess(text)  # Tokenizes, lowercases, removes punctuations\n",
    "\n",
    "\n",
    "\n",
    "# Tokenize text_\n",
    "df[\"text_processed\"] = df[\"text_\"].astype(str).apply(clean_and_tokenize)\n",
    "\n",
    "# Function to get sentence embeddings by averaging word vectors\n",
    "def get_sentence_embedding(tokens):\n",
    "    vectors = [word2vec_model[word] for word in tokens if word in word2vec_model]\n",
    "    return np.mean(vectors, axis=0) if vectors else np.zeros(word2vec_model.vector_size)\n",
    "\n",
    "# Compute embeddings\n",
    "X_w2v = np.array(df[\"text_processed\"].apply(get_sentence_embedding).tolist())\n",
    "\n",
    "# Extract labels\n",
    "y = df[\"label_encoded\"]\n"
   ]
  },
  {
   "cell_type": "code",
   "execution_count": null,
   "id": "431a37ac",
   "metadata": {},
   "outputs": [
    {
     "name": "stdout",
     "output_type": "stream",
     "text": [
      "(40432, 300)\n"
     ]
    }
   ],
   "source": [
    "print(X_w2v.shape)"
   ]
  },
  {
   "cell_type": "code",
   "execution_count": null,
   "id": "2d6e18c7",
   "metadata": {},
   "outputs": [],
   "source": [
    "\n",
    "# Function to clean text (basic cleaning, but keep punctuation for embeddings)\n",
    "def clean_text2(text):\n",
    "    text = re.sub(r'\\s+', ' ', text).strip()  # Remove extra spaces\n",
    "    return text.lower()  # Convert to lowercase\n",
    "\n",
    "# Clean text_\n",
    "df[\"text_\"] = df[\"text_\"].astype(str).apply(clean_text2)\n",
    "\n",
    "# Load a pretrained Sentence Transformer model\n",
    "# model = SentenceTransformer('all-mpnet-base-v2')\n",
    "model = SentenceTransformer('all-MiniLM-L6-v2')\n",
    "\n",
    "# Compute sentence embeddings\n",
    "X_base = np.array(model.encode(df[\"text_\"].tolist()))\n",
    "\n",
    "# Extract labels\n",
    "y = df[\"label_encoded\"]"
   ]
  },
  {
   "cell_type": "code",
   "execution_count": null,
   "id": "93c89353",
   "metadata": {},
   "outputs": [
    {
     "name": "stdout",
     "output_type": "stream",
     "text": [
      "(40432, 384)\n"
     ]
    }
   ],
   "source": [
    "print(X_base.shape)"
   ]
  },
  {
   "cell_type": "code",
   "execution_count": null,
   "id": "2bed99b0",
   "metadata": {},
   "outputs": [
    {
     "name": "stderr",
     "output_type": "stream",
     "text": [
      "You are trying to use a model that was created with Sentence Transformers version 4.1.0, but you're currently using version 4.0.2. This might cause unexpected behavior or errors. In that case, try to update to the latest version.\n"
     ]
    }
   ],
   "source": [
    "\n",
    "# Function to clean text (basic cleaning, but keep punctuation for embeddings)\n",
    "def clean_text2(text):\n",
    "    text = re.sub(r'\\s+', ' ', text).strip()  # Remove extra spaces\n",
    "    return text.lower()  # Convert to lowercase\n",
    "\n",
    "# Clean text_\n",
    "df[\"text_\"] = df[\"text_\"].astype(str).apply(clean_text2)\n",
    "\n",
    "# Load a pretrained Sentence Transformer model\n",
    "# model = SentenceTransformer('all-mpnet-base-v2')\n",
    "model = SentenceTransformer('finetuned-embedding-model_orig')\n",
    "\n",
    "# Compute sentence embeddings\n",
    "X = np.array(model.encode(df[\"text_\"].tolist()))\n",
    "\n",
    "# Extract labels\n",
    "y = df[\"label_encoded\"]"
   ]
  },
  {
   "cell_type": "code",
   "execution_count": null,
   "id": "1f90833a",
   "metadata": {},
   "outputs": [
    {
     "name": "stderr",
     "output_type": "stream",
     "text": [
      "You are trying to use a model that was created with Sentence Transformers version 4.1.0, but you're currently using version 4.0.2. This might cause unexpected behavior or errors. In that case, try to update to the latest version.\n"
     ]
    }
   ],
   "source": [
    "\n",
    "# Function to clean text (basic cleaning, but keep punctuation for embeddings)\n",
    "def clean_text2(text):\n",
    "    text = re.sub(r'\\s+', ' ', text).strip()  # Remove extra spaces\n",
    "    return text.lower()  # Convert to lowercase\n",
    "\n",
    "# Clean text_\n",
    "df[\"text_\"] = df[\"text_\"].astype(str).apply(clean_text2)\n",
    "\n",
    "# Load a pretrained Sentence Transformer model\n",
    "# model = SentenceTransformer('all-mpnet-base-v2')\n",
    "model_2 = SentenceTransformer('finetuned-embedding-model')\n",
    "\n",
    "# Compute sentence embeddings\n",
    "X_2 = np.array(model_2.encode(df[\"text_\"].tolist()))\n",
    "\n",
    "# Extract labels\n",
    "y_2 = df[\"label_encoded\"]"
   ]
  },
  {
   "cell_type": "code",
   "execution_count": null,
   "id": "28e71834",
   "metadata": {},
   "outputs": [],
   "source": [
    "X_2 = np.array(model_2.encode(df[\"text_\"].tolist()))"
   ]
  },
  {
   "cell_type": "code",
   "execution_count": null,
   "id": "eab410a6",
   "metadata": {},
   "outputs": [],
   "source": [
    "X_finetuned = X_2"
   ]
  },
  {
   "cell_type": "code",
   "execution_count": null,
   "id": "16078465",
   "metadata": {},
   "outputs": [
    {
     "name": "stdout",
     "output_type": "stream",
     "text": [
      "(40432, 384)\n"
     ]
    }
   ],
   "source": [
    "print(X_2.shape)"
   ]
  },
  {
   "cell_type": "code",
   "execution_count": null,
   "id": "c52e220e",
   "metadata": {},
   "outputs": [
    {
     "name": "stdout",
     "output_type": "stream",
     "text": [
      "[[ 0.05121171 -0.13156465 -0.08073665 ...  0.05205933  0.01949825\n",
      "   0.04690118]\n",
      " [ 0.04662985 -0.1380331  -0.07783449 ...  0.05155411  0.01411614\n",
      "   0.05094189]\n",
      " [ 0.05057134 -0.12763233 -0.08592441 ...  0.04771347  0.02953343\n",
      "   0.0629709 ]\n",
      " ...\n",
      " [-0.04670896  0.13984248  0.08246821 ... -0.06363366 -0.01313448\n",
      "  -0.05605846]\n",
      " [ 0.05277877 -0.13275316 -0.07662549 ...  0.04840408  0.01517112\n",
      "   0.04900347]\n",
      " [-0.04701654  0.13481128  0.08522808 ... -0.06209384 -0.01470875\n",
      "  -0.05672019]]\n"
     ]
    }
   ],
   "source": [
    "print(X_2)"
   ]
  },
  {
   "cell_type": "code",
   "execution_count": null,
   "id": "487bc66f",
   "metadata": {},
   "outputs": [],
   "source": [
    "from sklearn.model_selection import train_test_split\n",
    "from sklearn.metrics import classification_report, accuracy_score\n",
    "\n",
    "X = X_finetuned\n",
    "# Step 1: First split — hold out 10% for test\n",
    "X_temp, X_test, y_temp, y_test = train_test_split(\n",
    "    X, y, test_size=0.1, random_state=42, stratify=y\n",
    ")\n",
    "\n",
    "# Step 2: Second split — split remaining 90% into 80% train and 10% val\n",
    "# Since X_temp is 90%, we want to split off 1/9 ≈ 0.1111 to get 10% of the original data\n",
    "X_train, X_val, y_train, y_val = train_test_split(\n",
    "    X_temp, y_temp, test_size=1/9, random_state=42, stratify=y_temp\n",
    ")"
   ]
  },
  {
   "cell_type": "code",
   "execution_count": null,
   "id": "62777c53",
   "metadata": {},
   "outputs": [
    {
     "data": {
      "image/png": "[encoded data removed]",
      "text/plain": [
       "<Figure size 800x600 with 1 Axes>"
      ]
     },
     "metadata": {},
     "output_type": "display_data"
    }
   ],
   "source": [
    "from sklearn.decomposition import PCA\n",
    "import matplotlib.pyplot as plt\n",
    "\n",
    "# Assuming X is your embedding matrix and y is the label (0=fake, 1=real)\n",
    "pca = PCA(n_components=2)\n",
    "X_pca = pca.fit_transform(X)\n",
    "\n",
    "plt.figure(figsize=(8, 6))\n",
    "plt.scatter(X_pca[y == 0, 0], X_pca[y == 0, 1], label='Real', alpha=0.6, c='red')\n",
    "plt.scatter(X_pca[y == 1, 0], X_pca[y == 1, 1], label='Fake', alpha=0.6, c='blue')\n",
    "plt.title('PCA of Sentence Embeddings -- Finetuned MiniLM')\n",
    "plt.xlabel('PCA Component 1')\n",
    "plt.ylabel('PCA Component 2')\n",
    "plt.legend()\n",
    "plt.grid(True)\n",
    "plt.show()"
   ]
  },
  {
   "cell_type": "code",
   "execution_count": null,
   "id": "dd56beb8",
   "metadata": {},
   "outputs": [
    {
     "name": "stdout",
     "output_type": "stream",
     "text": [
      "Accuracy: 0.9782\n",
      "\n",
      "Classification Report:\n",
      "               precision    recall  f1-score   support\n",
      "\n",
      "           0       0.98      0.98      0.98      2022\n",
      "           1       0.98      0.98      0.98      2022\n",
      "\n",
      "    accuracy                           0.98      4044\n",
      "   macro avg       0.98      0.98      0.98      4044\n",
      "weighted avg       0.98      0.98      0.98      4044\n",
      "\n"
     ]
    }
   ],
   "source": [
    "from sklearn.linear_model import LogisticRegression\n",
    "\n",
    "# Train a Logistic Regression model\n",
    "log_reg = LogisticRegression(max_iter=1000, random_state=42)\n",
    "log_reg.fit(X_train, y_train)\n",
    "\n",
    "# Make predictions on the validation set\n",
    "y_pred = log_reg.predict(X_val)\n",
    "\n",
    "# Calculate accuracy\n",
    "acc_log_reg = accuracy_score(y_val, y_pred)\n",
    "print(f\"Accuracy: {acc_log_reg:.4f}\")\n",
    "# Print classification report\n",
    "print(\"\\nClassification Report:\\n\", classification_report(y_val, y_pred))\n",
    "\n"
   ]
  },
  {
   "cell_type": "code",
   "execution_count": null,
   "id": "67ad6b2d",
   "metadata": {},
   "outputs": [
    {
     "name": "stdout",
     "output_type": "stream",
     "text": [
      "Training Accuracy: 0.9885\n"
     ]
    }
   ],
   "source": [
    "y_train_pred = log_reg.predict(X_train)\n",
    "# Calculate accuracy on training set\n",
    "acc_log_reg_train = accuracy_score(y_train, y_train_pred)\n",
    "print(f\"Training Accuracy: {acc_log_reg_train:.4f}\")"
   ]
  },
  {
   "cell_type": "code",
   "execution_count": null,
   "id": "fc9fe7f2",
   "metadata": {},
   "outputs": [
    {
     "name": "stdout",
     "output_type": "stream",
     "text": [
      "Accuracy: 0.9782\n",
      "\n",
      "Classification Report:\n",
      "               precision    recall  f1-score   support\n",
      "\n",
      "           0       0.98      0.98      0.98      2022\n",
      "           1       0.98      0.98      0.98      2022\n",
      "\n",
      "    accuracy                           0.98      4044\n",
      "   macro avg       0.98      0.98      0.98      4044\n",
      "weighted avg       0.98      0.98      0.98      4044\n",
      "\n"
     ]
    }
   ],
   "source": [
    "from sklearn.svm import LinearSVC\n",
    "\n",
    "svm = LinearSVC(random_state=42)\n",
    "svm.fit(X_train, y_train)\n",
    "\n",
    "y_pred = svm.predict(X_val)\n",
    "acc_svm = accuracy_score(y_val, y_pred)\n",
    "print(f\"Accuracy: {acc_svm:.4f}\")\n",
    "print(\"\\nClassification Report:\\n\", classification_report(y_val, y_pred))\n"
   ]
  },
  {
   "cell_type": "code",
   "execution_count": null,
   "id": "1c127770",
   "metadata": {},
   "outputs": [
    {
     "name": "stdout",
     "output_type": "stream",
     "text": [
      "Accuracy (KNN): 0.9770\n",
      "\n",
      "Classification Report (KNN):\n",
      "               precision    recall  f1-score   support\n",
      "\n",
      "           0       0.98      0.97      0.98      2022\n",
      "           1       0.97      0.98      0.98      2022\n",
      "\n",
      "    accuracy                           0.98      4044\n",
      "   macro avg       0.98      0.98      0.98      4044\n",
      "weighted avg       0.98      0.98      0.98      4044\n",
      "\n"
     ]
    }
   ],
   "source": [
    "from sklearn.neighbors import KNeighborsClassifier\n",
    "\n",
    "knn = KNeighborsClassifier(n_neighbors=100)\n",
    "knn.fit(X_train, y_train)\n",
    "\n",
    "y_pred_knn = knn.predict(X_val)\n",
    "acc_knn = accuracy_score(y_val, y_pred_knn)\n",
    "print(f\"Accuracy (KNN): {acc_knn:.4f}\")\n",
    "print(\"\\nClassification Report (KNN):\\n\", classification_report(y_val, y_pred_knn))"
   ]
  },
  {
   "cell_type": "code",
   "execution_count": null,
   "id": "568a0a7d",
   "metadata": {},
   "outputs": [
    {
     "name": "stdout",
     "output_type": "stream",
     "text": [
      "Accuracy (MLP): 0.9792\n",
      "\n",
      "Classification Report (MLP):\n",
      "               precision    recall  f1-score   support\n",
      "\n",
      "           0       0.98      0.98      0.98      2022\n",
      "           1       0.98      0.98      0.98      2022\n",
      "\n",
      "    accuracy                           0.98      4044\n",
      "   macro avg       0.98      0.98      0.98      4044\n",
      "weighted avg       0.98      0.98      0.98      4044\n",
      "\n"
     ]
    }
   ],
   "source": [
    "from sklearn.neural_network import MLPClassifier\n",
    "mlp = MLPClassifier(\n",
    "    hidden_layer_sizes=(128, 64),\n",
    "    max_iter=500,\n",
    "    alpha=0.1,  # Try values like 0.001, 0.01, 0.1\n",
    "    random_state=42\n",
    ")\n",
    "mlp.fit(X_train, y_train)\n",
    "y_pred_mlp = mlp.predict(X_val)\n",
    "acc_mlp = accuracy_score(y_val, y_pred_mlp)\n",
    "print(f\"Accuracy (MLP): {acc_mlp:.4f}\")\n",
    "print(\"\\nClassification Report (MLP):\\n\", classification_report(y_val, y_pred_mlp))\n"
   ]
  },
  {
   "cell_type": "code",
   "execution_count": null,
   "id": "903f0246",
   "metadata": {},
   "outputs": [],
   "source": []
  },
  {
   "cell_type": "code",
   "execution_count": null,
   "id": "2d54d309",
   "metadata": {},
   "outputs": [
    {
     "name": "stdout",
     "output_type": "stream",
     "text": [
      "Training Accuracy (MLP): 0.9885\n",
      "Validation Accuracy (MLP): 0.9782\n"
     ]
    }
   ],
   "source": [
    "# Compute accuracy on the training dataset\n",
    "y_pred_train_mlp = log_reg.predict(X_train)\n",
    "acc_train_mlp = accuracy_score(y_train, y_pred_train_mlp)\n",
    "print(f\"Training Accuracy (MLP): {acc_train_mlp:.4f}\")\n",
    "\n",
    "# Compute accuracy on the validation dataset\n",
    "y_pred_val_mlp = log_reg.predict(X_val)\n",
    "acc_val_mlp = accuracy_score(y_val, y_pred_val_mlp)\n",
    "print(f\"Validation Accuracy (MLP): {acc_val_mlp:.4f}\")"
   ]
  },
  {
   "cell_type": "code",
   "execution_count": null,
   "id": "7f2d6f02",
   "metadata": {},
   "outputs": [
    {
     "name": "stdout",
     "output_type": "stream",
     "text": [
      "Fitting 5 folds for each of 9 candidates, totalling 45 fits\n",
      "Best parameters: {'mlp__alpha': 0.1, 'mlp__early_stopping': True, 'mlp__hidden_layer_sizes': (128, 64)}\n",
      "Best CV accuracy: 0.9886841367893859\n",
      "Test Accuracy: 0.9787339268051434\n",
      "\n",
      "Classification Report:\n",
      "               precision    recall  f1-score   support\n",
      "\n",
      "           0       0.98      0.98      0.98      2022\n",
      "           1       0.98      0.98      0.98      2022\n",
      "\n",
      "    accuracy                           0.98      4044\n",
      "   macro avg       0.98      0.98      0.98      4044\n",
      "weighted avg       0.98      0.98      0.98      4044\n",
      "\n"
     ]
    }
   ],
   "source": [
    "from sklearn.neural_network import MLPClassifier\n",
    "from sklearn.model_selection import GridSearchCV\n",
    "from sklearn.pipeline import Pipeline\n",
    "from sklearn.preprocessing import StandardScaler\n",
    "\n",
    "# Pipeline: scale embeddings before feeding to MLP\n",
    "pipeline = Pipeline([\n",
    "    # ('scaler', StandardScaler()),\n",
    "    ('mlp', MLPClassifier(max_iter=1000, random_state=42))\n",
    "])\n",
    "\n",
    "# Define grid\n",
    "param_grid = {\n",
    "    'mlp__hidden_layer_sizes': [(64,), (128,), (128, 64)],\n",
    "    'mlp__alpha': [0.01, 0.1, 1],\n",
    "    'mlp__early_stopping': [True]\n",
    "}\n",
    "\n",
    "# Grid search with 5-fold cross-validation\n",
    "grid = GridSearchCV(\n",
    "    pipeline,\n",
    "    param_grid,\n",
    "    cv=5,\n",
    "    scoring='accuracy',\n",
    "    verbose=1,\n",
    "    n_jobs=-1\n",
    ")\n",
    "\n",
    "# Run the search\n",
    "grid.fit(X_train, y_train)\n",
    "\n",
    "# Best model summary\n",
    "print(\"Best parameters:\", grid.best_params_)\n",
    "print(\"Best CV accuracy:\", grid.best_score_)\n",
    "\n",
    "# Evaluate on test set\n",
    "from sklearn.metrics import accuracy_score, classification_report\n",
    "\n",
    "y_pred = grid.predict(X_val)\n",
    "print(\"Test Accuracy:\", accuracy_score(y_val, y_pred))\n",
    "print(\"\\nClassification Report:\\n\", classification_report(y_val, y_pred))"
   ]
  },
  {
   "cell_type": "code",
   "execution_count": null,
   "id": "b5a1d627",
   "metadata": {},
   "outputs": [
    {
     "data": {
      "image/png": "[encoded data removed]",
      "text/plain": [
       "<Figure size 1000x600 with 1 Axes>"
      ]
     },
     "metadata": {},
     "output_type": "display_data"
    }
   ],
   "source": [
    "import matplotlib.pyplot as plt\n",
    "\n",
    "# Model names and their corresponding accuracies\n",
    "models = ['LR', 'SVM', 'KNN', 'MLP']\n",
    "accuracies = [acc_log_reg, acc_svm, acc_knn, acc_mlp]\n",
    "\n",
    "# Plot the bar graph\n",
    "plt.figure(figsize=(10, 6))\n",
    "plt.bar(models, accuracies, color=['blue', 'green', 'orange', 'red'])\n",
    "plt.axhline(y=0.5, color='gray', linestyle='--', label='Baseline (0.5)')  # Add baseline\n",
    "plt.xlabel('Models')\n",
    "plt.ylabel('Accuracy')\n",
    "plt.title('Model Accuracies Comparison --Finetuned MiniLM Embeddings')\n",
    "plt.ylim(0, 1)  # Set y-axis limits to 0-1 for better visualization\n",
    "plt.legend()\n",
    "plt.show()"
   ]
  },
  {
   "cell_type": "code",
   "execution_count": null,
   "id": "e8d7f298",
   "metadata": {},
   "outputs": [
    {
     "name": "stdout",
     "output_type": "stream",
     "text": [
      "Test Accuracy: 0.9768\n",
      "\n",
      "Classification Report:\n",
      "               precision    recall  f1-score   support\n",
      "\n",
      "           0       0.98      0.98      0.98      2022\n",
      "           1       0.98      0.98      0.98      2022\n",
      "\n",
      "    accuracy                           0.98      4044\n",
      "   macro avg       0.98      0.98      0.98      4044\n",
      "weighted avg       0.98      0.98      0.98      4044\n",
      "\n"
     ]
    }
   ],
   "source": [
    "y_pred_test = mlp.predict(X_test)\n",
    "# Calculate accuracy on the test set\n",
    "acc_test = accuracy_score(y_test, y_pred_test)\n",
    "print(f\"Test Accuracy: {acc_test:.4f}\")\n",
    "print(\"\\nClassification Report:\\n\", classification_report(y_test, y_pred_test))"
   ]
  },
  {
   "cell_type": "code",
   "execution_count": null,
   "id": "19a6b42e",
   "metadata": {},
   "outputs": [
    {
     "data": {
      "image/png": "[encoded data removed]",
      "text/plain": [
       "<Figure size 600x400 with 2 Axes>"
      ]
     },
     "metadata": {},
     "output_type": "display_data"
    }
   ],
   "source": [
    "from sklearn.metrics import confusion_matrix, ConfusionMatrixDisplay\n",
    "import seaborn as sns\n",
    "import matplotlib.pyplot as plt\n",
    "\n",
    "# Compute confusion matrix\n",
    "cm = confusion_matrix(y_test, y_pred_test)\n",
    "\n",
    "plt.figure(figsize=(6, 4))\n",
    "sns.heatmap(cm, annot=True, fmt='d', cmap='Blues', xticklabels=[\"Real\", \"Fake\"], yticklabels=[\"Real\", \"Fake\"])\n",
    "plt.xlabel(\"Predicted\")\n",
    "plt.ylabel(\"Actual\")\n",
    "plt.title(\"Confusion Matrix for Best Model on Test Set\")\n",
    "plt.show()"
   ]
  },
  {
   "cell_type": "code",
   "execution_count": null,
   "id": "f77d72cc",
   "metadata": {},
   "outputs": [],
   "source": [
    "rest_df = pd.read_csv('restaurant_reviews_anonymized.csv', encoding='latin1')"
   ]
  },
  {
   "cell_type": "code",
   "execution_count": null,
   "id": "079e3a4f",
   "metadata": {},
   "outputs": [
    {
     "name": "stdout",
     "output_type": "stream",
     "text": [
      "Index(['Restaurant', 'Review', 'Real', 'Reviewer', 'F1-AWL', 'F2-PAU',\n",
      "       'F3-ANP', 'F4-ASL', 'F5-NCL', 'F6-NWO', 'F7-NVB', 'F8-NAJ', 'F9-NPV',\n",
      "       'F10-EMO', 'F11-CDV', 'F12-RED', 'F13-LXD', 'F14-NMV', 'F15-NTY',\n",
      "       'Unnamed: 19', 'Unnamed: 20', 'Unnamed: 21', 'Unnamed: 22',\n",
      "       'Unnamed: 23', 'Unnamed: 24', 'Unnamed: 25'],\n",
      "      dtype='object')\n"
     ]
    }
   ],
   "source": [
    "print(rest_df.columns)"
   ]
  },
  {
   "cell_type": "code",
   "execution_count": null,
   "id": "4f58896e",
   "metadata": {},
   "outputs": [
    {
     "name": "stdout",
     "output_type": "stream",
     "text": [
      "The restroom of this restraurant is dirty. It looks like they haven't clean this for a year. The lighting is dim, the decor subdued, and restaurant mostly quiet. Food is a bit pricey. Don't get the lamb phall. It's not just a spicy curry - it's over spiced with no salt. Rice was ok. Naan was too doughy (undercooked). Kinda disappointed\n"
     ]
    }
   ],
   "source": [
    "print(rest_df.iloc[108]['Review'])"
   ]
  },
  {
   "cell_type": "code",
   "execution_count": null,
   "id": "e1ef5ba9",
   "metadata": {},
   "outputs": [],
   "source": [
    "X = rest_df['Review']"
   ]
  },
  {
   "cell_type": "code",
   "execution_count": null,
   "id": "3ce1a144",
   "metadata": {},
   "outputs": [],
   "source": [
    "y = 1 - rest_df['Real']"
   ]
  },
  {
   "cell_type": "code",
   "execution_count": null,
   "id": "fb7c6451",
   "metadata": {},
   "outputs": [
    {
     "name": "stdout",
     "output_type": "stream",
     "text": [
      "0      1\n",
      "1      1\n",
      "2      1\n",
      "3      1\n",
      "4      1\n",
      "      ..\n",
      "105    0\n",
      "106    1\n",
      "107    1\n",
      "108    1\n",
      "109    1\n",
      "Name: Real, Length: 110, dtype: int64\n"
     ]
    }
   ],
   "source": [
    "print(1 - y)"
   ]
  },
  {
   "cell_type": "code",
   "execution_count": null,
   "id": "5724acf8",
   "metadata": {},
   "outputs": [
    {
     "name": "stdout",
     "output_type": "stream",
     "text": [
      "0      great food and great atmosphere! the chicken t...\n",
      "1      i had heard good things about rose restaurant ...\n",
      "2      i was driving by rose restaurant one day and d...\n",
      "3      rose restaurant had the most modern and up-to-...\n",
      "4      today is the third time i've come to gloria re...\n",
      "                             ...                        \n",
      "105    my family and i began dining with mr. pal circ...\n",
      "106    samosa was not tasty at all. it was very plain...\n",
      "107    i'm not sure if the food would be categorized ...\n",
      "108    the restroom of this restraurant is dirty. it ...\n",
      "109    food was very disappointing and even customer ...\n",
      "Name: Review, Length: 110, dtype: object\n"
     ]
    }
   ],
   "source": [
    "X = rest_df['Review']\n",
    "X = X.astype(str).apply(clean_text2)\n",
    "print(X)"
   ]
  },
  {
   "cell_type": "code",
   "execution_count": null,
   "id": "aec29e4e",
   "metadata": {},
   "outputs": [
    {
     "name": "stdout",
     "output_type": "stream",
     "text": [
      "            Restaurant                                             Review  \\\n",
      "0      Rose Restaurant  Great food and great atmosphere! The chicken t...   \n",
      "1      Rose Restaurant  I had heard good things about Rose Restaurant ...   \n",
      "2      Rose Restaurant  I was driving by rose restaurant one day and d...   \n",
      "3      Rose Restaurant  Rose Restaurant had the most modern and up-to-...   \n",
      "4    Gloria Restaurant  Today is the third time I've come to Gloria Re...   \n",
      "5    Gloria Restaurant  I have been to Gloria Restaurant a couple time...   \n",
      "6    Gloria Restaurant  Last Saturday I went to this restaurant hoping...   \n",
      "7    Gloria Restaurant  First off, let me say I have never been to the...   \n",
      "8    Jasmin Restaurant  Jasmin Restaurant is the best Indian food I ha...   \n",
      "9    Jasmin Restaurant  Jasmin Restaurant's motto is \"Where Customer i...   \n",
      "10   Jasmin Restaurant  Coming from India myself I wanted to see if th...   \n",
      "11   Jasmin Restaurant  My family and I met for lunch at Jasmin Restau...   \n",
      "24   Jasmin Restaurant  I really love this place. I always try to take...   \n",
      "25   Jasmin Restaurant  Jasmin Restaurant is undoubtedly the best Indi...   \n",
      "26   Jasmin Restaurant  This place is the perfect combination of affor...   \n",
      "27   Jasmin Restaurant  Nice environment. The air in this place litera...   \n",
      "28   Jasmin Restaurant  Jasmin Restaurant serves the most authentic In...   \n",
      "34     Rose Restaurant  Rose Restaurant introduced me to Indian food a...   \n",
      "35     Rose Restaurant  Rose Restaurant is my go to place for getting ...   \n",
      "36     Rose Restaurant  I really love everything about this place. The...   \n",
      "37     Rose Restaurant  For me, Rose Restaurant was one of the most ho...   \n",
      "38     Rose Restaurant  I used to like Rose Restaurant and their food ...   \n",
      "39     Rose Restaurant  This place has one of the dirtiest kitchen I h...   \n",
      "40     Rose Restaurant  The quality of food in this restaurant sucks. ...   \n",
      "41     Rose Restaurant  Rose Restaurant is not as good as some of the ...   \n",
      "50   Gloria Restaurant  Gloria Restaurant is the most authentic Indian...   \n",
      "51   Gloria Restaurant  The food here is so good that it reminds of my...   \n",
      "52   Gloria Restaurant  I will never ever go to this place in my life....   \n",
      "53   Gloria Restaurant  I went there with my family and I will say it ...   \n",
      "54   Gloria Restaurant  Lot a great place for meat lovers. They have a...   \n",
      "55   Gloria Restaurant  I have nothing good to say about this place. F...   \n",
      "56   Gloria Restaurant  I have been to so many Indian restaurants. Som...   \n",
      "64     Rose Restaurant  The place is really great. Owner is from my vi...   \n",
      "65     Rose Restaurant  For me, it was the worst place to have an expe...   \n",
      "66     Rose Restaurant  It was a nightmare to go there and spend my ti...   \n",
      "67     Rose Restaurant  I wonder why such place still exists. Why woul...   \n",
      "72   Jasmin Restaurant  Jasmin Restaurant is really a good place to ha...   \n",
      "73   Jasmin Restaurant  I really loved the food and the services they ...   \n",
      "74   Jasmin Restaurant  I was really attracted by the decorations of t...   \n",
      "78   Gloria Restaurant  One of the best restaurants I have ever been. ...   \n",
      "79   Gloria Restaurant  This place has given a shame to a pride of a c...   \n",
      "80   Gloria Restaurant  I am ashamed of my friends to give them a trea...   \n",
      "81   Gloria Restaurant  Thank me later as I am about to save your mone...   \n",
      "90     Rose Restaurant  The prices are a food is cheaper for most meal...   \n",
      "91     Rose Restaurant  I usually go for buffet.The food was excellent...   \n",
      "92     Rose Restaurant  I'm a loyal fan of this place. The food here i...   \n",
      "93     Rose Restaurant  It's my fav and they make it pretty well. They...   \n",
      "98   Jasmin Restaurant  This restraurant have some issues. The food ca...   \n",
      "99   Jasmin Restaurant  To be honest, the open concept of this restrau...   \n",
      "100  Jasmin Restaurant  Food was not bad but I was disappointed at the...   \n",
      "101  Jasmin Restaurant  Waiting 45 minutes for a tiny box of fried ric...   \n",
      "106  Gloria Restaurant  Samosa was not tasty at all. It was very plain...   \n",
      "107  Gloria Restaurant  I'm not sure if the food would be categorized ...   \n",
      "108  Gloria Restaurant  The restroom of this restraurant is dirty. It ...   \n",
      "109  Gloria Restaurant  Food was very disappointing and even customer ...   \n",
      "\n",
      "     Real  Reviewer    F1-AWL    F2-PAU     F3-ANP     F4-ASL  F5-NCL  F6-NWO  \\\n",
      "0       0         3  4.465909  1.000000  14.250000  17.600000       5      88   \n",
      "1       0         3  3.838983  1.500000  10.000000  19.666667       6     118   \n",
      "2       0         3  3.377049  1.142857   8.923077  17.428571       7     122   \n",
      "3       0         3  4.044118  1.750000  17.500000  17.000000       4      68   \n",
      "4       0         3  4.071429  1.500000  10.700000  14.000000       6      84   \n",
      "5       0         3  3.838983  1.222222   6.307692  13.111111       9     118   \n",
      "6       0         3  4.018868  1.142857  10.769231  15.142857       7     106   \n",
      "7       0         3  3.552846  1.375000   9.133333  15.375000       8     123   \n",
      "8       0         3  3.602273  1.125000   8.400000  11.000000       8      88   \n",
      "9       0         3  4.118182  1.833333   8.583333  18.333333       6     110   \n",
      "10      0         3  3.882353  1.111111  10.166667  13.222222       9     119   \n",
      "11      0         3  4.123457  1.200000  11.437500  16.200000       5      81   \n",
      "24      0         2  3.745455  1.250000  10.777778  13.750000       4      55   \n",
      "25      0         2  4.078125  1.250000   7.777778  16.000000       4      64   \n",
      "26      0         2  4.070423  2.000000  12.461538  23.666667       3      71   \n",
      "27      0         2  4.250000  1.200000  12.000000  11.200000       5      56   \n",
      "28      0         2  4.180328  1.500000  18.714286  15.250000       4      61   \n",
      "34      0         2  4.000000  1.000000   7.285714  12.833333       6      77   \n",
      "35      0         2  3.600000  2.000000   9.625000  18.000000       5      90   \n",
      "36      0         2  3.987179  2.250000   7.545455  19.500000       4      78   \n",
      "37      0         2  3.673469  1.333333  13.142857  16.333333       3      49   \n",
      "38      0         2  3.354430  1.500000   5.800000  19.750000       4      79   \n",
      "39      0         2  4.031250  1.400000  10.461538  19.200000       5      96   \n",
      "40      0         2  3.860759  1.000000  10.083333  15.800000       5      79   \n",
      "41      0         2  3.753425  1.166667  10.333333  12.166667       6      73   \n",
      "50      0         2  4.232877  1.000000  12.000000  14.600000       5      73   \n",
      "51      0         2  4.108108  1.000000  16.333333  14.800000       5      74   \n",
      "52      0         2  3.602410  1.200000   7.625000  16.600000       5      83   \n",
      "53      0         2  3.772152  1.166667   6.615385  13.166667       6      79   \n",
      "54      0         2  3.602041  1.125000   8.625000  12.250000       8      98   \n",
      "55      0         2  3.688889  1.500000   7.214286  11.250000       8      90   \n",
      "56      0         2  3.793478  1.250000  13.500000  11.500000       8      92   \n",
      "64      0         4  3.785714  1.000000   5.500000   9.333333       3      28   \n",
      "65      0         4  3.707692  1.200000   9.000000  13.000000       5      65   \n",
      "66      0         4  3.779661  0.833333   6.666667   9.833333       6      59   \n",
      "67      0         4  3.607843  1.000000   6.833333  12.750000       4      51   \n",
      "72      0         4  3.916667  1.000000  10.636364  18.000000       4      72   \n",
      "73      0         4  3.673684  1.400000   9.583333  19.000000       5      95   \n",
      "74      0         4  4.389831  1.000000  14.428571  19.666667       3      59   \n",
      "78      0         4  3.826923  1.000000   9.142857  10.400000       5      52   \n",
      "79      0         4  3.805195  1.000000   7.181818  15.400000       5      77   \n",
      "80      0         4  3.565217  1.500000   7.750000  17.250000       4      69   \n",
      "81      0         4  3.513514  1.200000   7.428571  14.800000       5      74   \n",
      "90      0         1  4.348837  1.333333  10.714286  14.333333       3      43   \n",
      "91      0         1  3.905109  1.230769   7.500000  10.538462      13     137   \n",
      "92      0         1  4.200000  1.250000   8.583333  16.250000       4      65   \n",
      "93      0         1  3.542373  1.000000   5.750000  11.800000       5      59   \n",
      "98      0         1  3.894737  1.000000   7.000000   9.500000       4      38   \n",
      "99      0         1  3.548387  1.400000   9.833333  18.600000       5      93   \n",
      "100     0         1  3.315789  1.000000   7.000000  19.000000       3      57   \n",
      "101     0         1  3.563636  1.166667  12.200000   9.166667       6      55   \n",
      "106     0         1  3.733333  1.285714  10.800000  12.857143       7      90   \n",
      "107     0         1  3.526316  1.500000   8.125000   9.500000       6      57   \n",
      "108     0         1  3.597403  1.444444   8.000000   8.555556       9      77   \n",
      "109     0         1  3.960000  1.000000   7.625000  16.666667       3      50   \n",
      "\n",
      "     ...   F13-LXD  F14-NMV  F15-NTY  Unnamed: 19  Unnamed: 20  Unnamed: 21  \\\n",
      "0    ...  0.795181        0        0          NaN          NaN          NaN   \n",
      "1    ...  0.752294        0        0          NaN          NaN          NaN   \n",
      "2    ...  0.675439        0        0          NaN          NaN          NaN   \n",
      "3    ...  0.819672        0        0          NaN          NaN          NaN   \n",
      "4    ...  0.786667        0        0          NaN          NaN          NaN   \n",
      "5    ...  0.682243        0        0          NaN          NaN          NaN   \n",
      "6    ...  0.704082        0        1          NaN          NaN          NaN   \n",
      "7    ...  0.616071        1        0          NaN          NaN          NaN   \n",
      "8    ...  0.759494        0        0          NaN          NaN          NaN   \n",
      "9    ...  0.777778        0        0          NaN          NaN          NaN   \n",
      "10   ...  0.660550        2        1          NaN          NaN          NaN   \n",
      "11   ...  0.786667        1        0          NaN          NaN          NaN   \n",
      "24   ...  0.860000        0        0          NaN          NaN          NaN   \n",
      "25   ...  0.796610        0        0          NaN          NaN          NaN   \n",
      "26   ...  0.738462        1        0          NaN          NaN          NaN   \n",
      "27   ...  0.820000        0        0          NaN          NaN          NaN   \n",
      "28   ...  0.745455        0        0          NaN          NaN          NaN   \n",
      "34   ...  0.732394        1        0          NaN          NaN          NaN   \n",
      "35   ...  0.700000        1        0          NaN          NaN          NaN   \n",
      "36   ...  0.710145        2        0          NaN          NaN          NaN   \n",
      "37   ...  0.755556        0        0          NaN          NaN          NaN   \n",
      "38   ...  0.753425        1        0          NaN          NaN          NaN   \n",
      "39   ...  0.685393        1        0          NaN          NaN          NaN   \n",
      "40   ...  0.729730        0        0          NaN          NaN          NaN   \n",
      "41   ...  0.787879        1        0          NaN          NaN          NaN   \n",
      "50   ...  0.764706        0        0          NaN          NaN          NaN   \n",
      "51   ...  0.782609        0        0          NaN          NaN          NaN   \n",
      "52   ...  0.753247        1        0          NaN          NaN          NaN   \n",
      "53   ...  0.763889        1        0          NaN          NaN          NaN   \n",
      "54   ...  0.707865        0        0          NaN          NaN          NaN   \n",
      "55   ...  0.807692        0        0          NaN          NaN          NaN   \n",
      "56   ...  0.670732        0        0          NaN          NaN          NaN   \n",
      "64   ...  0.800000        2        0          NaN          NaN          NaN   \n",
      "65   ...  0.813559        1        0          NaN          NaN          NaN   \n",
      "66   ...  0.814815        2        0          NaN          NaN          NaN   \n",
      "67   ...  0.829787        2        0          NaN          NaN          NaN   \n",
      "72   ...  0.661765        2        0          NaN          NaN          NaN   \n",
      "73   ...  0.681818        4        0          NaN          NaN          NaN   \n",
      "74   ...  0.696429        2        0          NaN          NaN          NaN   \n",
      "78   ...  0.808511        2        0          NaN          NaN          NaN   \n",
      "79   ...  0.722222        1        0          NaN          NaN          NaN   \n",
      "80   ...  0.761905        0        0          NaN          NaN          NaN   \n",
      "81   ...  0.764706        3        0          NaN          NaN          NaN   \n",
      "90   ...  0.794872        1        1          NaN          NaN          NaN   \n",
      "91   ...  0.677686        0        0          NaN          NaN          NaN   \n",
      "92   ...  0.850000        1        1          NaN          NaN          NaN   \n",
      "93   ...  0.870370        0        0          NaN          NaN          NaN   \n",
      "98   ...  0.852941        0        2          NaN          NaN          NaN   \n",
      "99   ...  0.732558        1        1          NaN          NaN          NaN   \n",
      "100  ...  0.796296        0        0          NaN          NaN          NaN   \n",
      "101  ...  0.916667        0        0          NaN          NaN          NaN   \n",
      "106  ...  0.753086        0        0          NaN          NaN          NaN   \n",
      "107  ...  0.833333        1        0          NaN          NaN          NaN   \n",
      "108  ...  0.828125        0        1          NaN          NaN          NaN   \n",
      "109  ...  0.808511        0        1          NaN          NaN          NaN   \n",
      "\n",
      "     Unnamed: 22  Unnamed: 23  Unnamed: 24  Unnamed: 25  \n",
      "0            NaN          NaN          NaN          NaN  \n",
      "1            NaN          NaN          NaN          NaN  \n",
      "2            NaN          NaN          NaN          NaN  \n",
      "3            NaN          NaN          NaN          NaN  \n",
      "4            NaN          NaN          NaN          NaN  \n",
      "5            NaN          NaN          NaN          NaN  \n",
      "6            NaN          NaN          NaN          NaN  \n",
      "7            NaN          NaN          NaN          NaN  \n",
      "8            NaN          NaN          NaN          NaN  \n",
      "9            NaN          NaN          NaN          NaN  \n",
      "10           NaN          NaN          NaN          NaN  \n",
      "11           NaN          NaN          NaN          NaN  \n",
      "24           NaN          NaN          NaN          NaN  \n",
      "25           NaN          NaN          NaN          NaN  \n",
      "26           NaN          NaN          NaN          NaN  \n",
      "27           NaN          NaN          NaN          NaN  \n",
      "28           NaN          NaN          NaN          NaN  \n",
      "34           NaN          NaN          NaN          NaN  \n",
      "35           NaN          NaN          NaN          NaN  \n",
      "36           NaN          NaN          NaN          NaN  \n",
      "37           NaN          NaN          NaN          NaN  \n",
      "38           NaN          NaN          NaN          NaN  \n",
      "39           NaN          NaN          NaN          NaN  \n",
      "40           NaN          NaN          NaN          NaN  \n",
      "41           NaN          NaN          NaN          NaN  \n",
      "50           NaN          NaN          NaN          NaN  \n",
      "51           NaN          NaN          NaN          NaN  \n",
      "52           NaN          NaN          NaN          NaN  \n",
      "53           NaN          NaN          NaN          NaN  \n",
      "54           NaN          NaN          NaN          NaN  \n",
      "55           NaN          NaN          NaN          NaN  \n",
      "56           NaN          NaN          NaN          NaN  \n",
      "64           NaN          NaN          NaN          NaN  \n",
      "65           NaN          NaN          NaN          NaN  \n",
      "66           NaN          NaN          NaN          NaN  \n",
      "67           NaN          NaN          NaN          NaN  \n",
      "72           NaN          NaN          NaN          NaN  \n",
      "73           NaN          NaN          NaN          NaN  \n",
      "74           NaN          NaN          NaN          NaN  \n",
      "78           NaN          NaN          NaN          NaN  \n",
      "79           NaN          NaN          NaN          NaN  \n",
      "80           NaN          NaN          NaN          NaN  \n",
      "81           NaN          NaN          NaN          NaN  \n",
      "90           NaN          NaN          NaN          NaN  \n",
      "91           NaN          NaN          NaN          NaN  \n",
      "92           NaN          NaN          NaN          NaN  \n",
      "93           NaN          NaN          NaN          NaN  \n",
      "98           NaN          NaN          NaN          NaN  \n",
      "99           NaN          NaN          NaN          NaN  \n",
      "100          NaN          NaN          NaN          NaN  \n",
      "101          NaN          NaN          NaN          NaN  \n",
      "106          NaN          NaN          NaN          NaN  \n",
      "107          NaN          NaN          NaN          NaN  \n",
      "108          NaN          NaN          NaN          NaN  \n",
      "109          NaN          NaN          NaN          NaN  \n",
      "\n",
      "[55 rows x 26 columns]\n"
     ]
    }
   ],
   "source": [
    "print(rest_df[rest_df['Real'] == 0])"
   ]
  },
  {
   "cell_type": "code",
   "execution_count": null,
   "id": "a88f1c70",
   "metadata": {},
   "outputs": [
    {
     "name": "stderr",
     "output_type": "stream",
     "text": [
      "You are trying to use a model that was created with Sentence Transformers version 4.1.0, but you're currently using version 4.0.2. This might cause unexpected behavior or errors. In that case, try to update to the latest version.\n"
     ]
    }
   ],
   "source": [
    "\n",
    "# Function to clean text (basic cleaning, but keep punctuation for embeddings)\n",
    "def clean_text2(text):\n",
    "    text = re.sub(r'\\s+', ' ', text).strip()  # Remove extra spaces\n",
    "    return text.lower()  # Convert to lowercase\n",
    "\n",
    "X = rest_df['Review']\n",
    "# Clean text_\n",
    "X = X.astype(str).apply(clean_text2)\n",
    "\n",
    "# Load a pretrained Sentence Transformer model\n",
    "# model = SentenceTransformer('all-mpnet-base-v2')\n",
    "model = SentenceTransformer('finetuned-embedding-model')\n",
    "\n",
    "# Compute sentence embeddings\n",
    "X = np.array(model.encode(X.tolist()))"
   ]
  },
  {
   "cell_type": "code",
   "execution_count": null,
   "id": "dd6ee1b1",
   "metadata": {},
   "outputs": [
    {
     "name": "stdout",
     "output_type": "stream",
     "text": [
      "[[ 0.05121171 -0.13156465 -0.08073665 ...  0.05205933  0.01949825\n",
      "   0.04690118]\n",
      " [ 0.04662985 -0.1380331  -0.07783449 ...  0.05155411  0.01411614\n",
      "   0.05094189]\n",
      " [ 0.05057134 -0.12763233 -0.08592441 ...  0.04771347  0.02953343\n",
      "   0.0629709 ]\n",
      " ...\n",
      " [-0.04670896  0.13984248  0.08246821 ... -0.06363366 -0.01313448\n",
      "  -0.05605846]\n",
      " [ 0.05277877 -0.13275316 -0.07662549 ...  0.04840408  0.01517112\n",
      "   0.04900347]\n",
      " [-0.04701654  0.13481128  0.08522808 ... -0.06209384 -0.01470875\n",
      "  -0.05672019]]\n"
     ]
    }
   ],
   "source": [
    "print(X_finetuned)"
   ]
  },
  {
   "cell_type": "code",
   "execution_count": null,
   "id": "bd5ec0bb",
   "metadata": {},
   "outputs": [
    {
     "name": "stdout",
     "output_type": "stream",
     "text": [
      "[[-0.04495174  0.13753489  0.08116673 ... -0.06321952 -0.01616529\n",
      "  -0.05530517]\n",
      " [-0.04343902  0.13716242  0.0815728  ... -0.05884691 -0.01630191\n",
      "  -0.05520564]\n",
      " [-0.04559323  0.13850327  0.08126646 ... -0.05699858 -0.01493956\n",
      "  -0.05499023]\n",
      " ...\n",
      " [-0.04618524  0.13454536  0.08388436 ... -0.05787158 -0.0158796\n",
      "  -0.05767959]\n",
      " [-0.04410589  0.13572685  0.0847453  ... -0.05754074 -0.01441442\n",
      "  -0.05879719]\n",
      " [-0.04502635  0.13863991  0.08118697 ... -0.06241203 -0.01599463\n",
      "  -0.05646808]]\n"
     ]
    }
   ],
   "source": [
    "print(X)"
   ]
  },
  {
   "cell_type": "code",
   "execution_count": null,
   "id": "14f0a30e",
   "metadata": {},
   "outputs": [
    {
     "name": "stdout",
     "output_type": "stream",
     "text": [
      "20159\n"
     ]
    }
   ],
   "source": [
    "print(mlp.predict(X_finetuned).sum())"
   ]
  },
  {
   "cell_type": "code",
   "execution_count": null,
   "id": "9540c108",
   "metadata": {},
   "outputs": [
    {
     "name": "stdout",
     "output_type": "stream",
     "text": [
      "1\n"
     ]
    }
   ],
   "source": [
    "print(mlp.predict(X).sum())"
   ]
  },
  {
   "cell_type": "code",
   "execution_count": null,
   "id": "801f12f4",
   "metadata": {},
   "outputs": [],
   "source": [
    "y_pred = svm.predict(X)"
   ]
  },
  {
   "cell_type": "code",
   "execution_count": null,
   "id": "a5c1fc0e",
   "metadata": {},
   "outputs": [
    {
     "name": "stdout",
     "output_type": "stream",
     "text": [
      "[0 0 0 0 0 0 0 0 0 0 0 0 0 0 0 0 0 0 0 0 0 0 0 0 0 0 0 0 0 0 0 0 0 0 0 0 0\n",
      " 0 0 0 0 0 0 0 0 0 0 0 0 0 0 0 0 0 0 0 0 0 0 0 0 0 0 0 0 0 0 0 0 0 0 0 0 0\n",
      " 0 0 1 0 0 0 0 0 0 0 0 0 0 0 0 0 0 0 0 0 0 0 0 0 0 0 0 0 0 0 0 0 0 0 0 0]\n"
     ]
    }
   ],
   "source": [
    "print(y_pred)"
   ]
  },
  {
   "cell_type": "code",
   "execution_count": null,
   "id": "64c3c89c",
   "metadata": {},
   "outputs": [],
   "source": [
    "acc_test= accuracy_score(y_pred, y)\n"
   ]
  },
  {
   "cell_type": "code",
   "execution_count": null,
   "id": "d7d86dd5",
   "metadata": {},
   "outputs": [
    {
     "data": {
      "image/png": "[encoded data removed]",
      "text/plain": [
       "<Figure size 600x400 with 2 Axes>"
      ]
     },
     "metadata": {},
     "output_type": "display_data"
    }
   ],
   "source": [
    "from sklearn.metrics import confusion_matrix, ConfusionMatrixDisplay\n",
    "import seaborn as sns\n",
    "import matplotlib.pyplot as plt\n",
    "\n",
    "# Compute confusion matrix\n",
    "cm = confusion_matrix(y, y_pred)\n",
    "\n",
    "plt.figure(figsize=(6, 4))\n",
    "sns.heatmap(cm, annot=True, fmt='d', cmap='Blues', xticklabels=[\"Real\", \"Fake\"], yticklabels=[\"Real\", \"Fake\"])\n",
    "plt.xlabel(\"Predicted\")\n",
    "plt.ylabel(\"Actual\")\n",
    "plt.title(\"Best Embedding Model Out of Sample\")\n",
    "plt.show()"
   ]
  },
  {
   "cell_type": "code",
   "execution_count": null,
   "id": "32a15408",
   "metadata": {},
   "outputs": [
    {
     "name": "stdout",
     "output_type": "stream",
     "text": [
      "Test Accuracy: 0.4909\n",
      "\n",
      "Classification Report:\n",
      "               precision    recall  f1-score   support\n",
      "\n",
      "           0       0.98      0.98      0.98      2022\n",
      "           1       0.98      0.98      0.98      2022\n",
      "\n",
      "    accuracy                           0.98      4044\n",
      "   macro avg       0.98      0.98      0.98      4044\n",
      "weighted avg       0.98      0.98      0.98      4044\n",
      "\n"
     ]
    }
   ],
   "source": [
    "print(f\"Test Accuracy: {acc_test:.4f}\")\n",
    "print(\"\\nClassification Report:\\n\", classification_report(y_test, y_pred_test))"
   ]
  }
 ],
 "metadata": {
  "language_info": {
   "name": "python"
  }
 },
 "nbformat": 4,
 "nbformat_minor": 5
}
